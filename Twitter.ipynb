{
  "nbformat": 4,
  "nbformat_minor": 0,
  "metadata": {
    "colab": {
      "name": "Twitter.ipynb",
      "provenance": [],
      "collapsed_sections": []
    },
    "kernelspec": {
      "name": "python3",
      "display_name": "Python 3"
    }
  },
  "cells": [
    {
      "cell_type": "code",
      "metadata": {
        "colab": {
          "base_uri": "https://localhost:8080/"
        },
        "id": "5iC5YfapBPUE",
        "outputId": "1e04bf05-74b6-475d-cf04-9109a10ab43e"
      },
      "source": [
        "# Load the Drive helper and mount\r\n",
        "from google.colab import drive\r\n",
        "\r\n",
        "# This will prompt for authorization.\r\n",
        "drive.mount('/content/gdrive')"
      ],
      "execution_count": null,
      "outputs": [
        {
          "output_type": "stream",
          "text": [
            "Drive already mounted at /content/gdrive; to attempt to forcibly remount, call drive.mount(\"/content/gdrive\", force_remount=True).\n"
          ],
          "name": "stdout"
        }
      ]
    },
    {
      "cell_type": "code",
      "metadata": {
        "id": "8kEjPy39CULo"
      },
      "source": [
        "from keras.preprocessing.text import Tokenizer\r\n",
        "import nltk\r\n",
        "from nltk.tokenize import word_tokenize\r\n",
        "import numpy as np\r\n",
        "import re\r\n",
        "from keras.utils import to_categorical\r\n"
      ],
      "execution_count": null,
      "outputs": []
    },
    {
      "cell_type": "code",
      "metadata": {
        "colab": {
          "resources": {
            "http://localhost:8080/nbextensions/google.colab/files.js": {
              "data": "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",
              "ok": true,
              "headers": [
                [
                  "content-type",
                  "application/javascript"
                ]
              ],
              "status": 200,
              "status_text": ""
            }
          },
          "base_uri": "https://localhost:8080/",
          "height": 72
        },
        "id": "6pkELK9BCXnZ",
        "outputId": "92ea8182-79f0-420f-88ec-1ae1698a3926"
      },
      "source": [
        "from google.colab import files\r\n",
        "src = list(files.upload().values())[0]\r\n",
        "open('doc9.py','wb').write(src)\r\n",
        "from doc9 import training_doc3"
      ],
      "execution_count": null,
      "outputs": [
        {
          "output_type": "display_data",
          "data": {
            "text/html": [
              "\n",
              "     <input type=\"file\" id=\"files-564b9e9b-46b4-4a8e-8482-b466c5f42ec7\" name=\"files[]\" multiple disabled\n",
              "        style=\"border:none\" />\n",
              "     <output id=\"result-564b9e9b-46b4-4a8e-8482-b466c5f42ec7\">\n",
              "      Upload widget is only available when the cell has been executed in the\n",
              "      current browser session. Please rerun this cell to enable.\n",
              "      </output>\n",
              "      <script src=\"/nbextensions/google.colab/files.js\"></script> "
            ],
            "text/plain": [
              "<IPython.core.display.HTML object>"
            ]
          },
          "metadata": {
            "tags": []
          }
        },
        {
          "output_type": "stream",
          "text": [
            "Saving doc9.py to doc9.py\n"
          ],
          "name": "stdout"
        }
      ]
    },
    {
      "cell_type": "code",
      "metadata": {
        "colab": {
          "base_uri": "https://localhost:8080/"
        },
        "id": "-olUcdcsCYZZ",
        "outputId": "aad71bfe-255a-4ac3-d379-e6bafd19f9c7"
      },
      "source": [
        "import nltk\r\n",
        "nltk.download('punkt')"
      ],
      "execution_count": null,
      "outputs": [
        {
          "output_type": "stream",
          "text": [
            "[nltk_data] Downloading package punkt to /root/nltk_data...\n",
            "[nltk_data]   Package punkt is already up-to-date!\n"
          ],
          "name": "stdout"
        },
        {
          "output_type": "execute_result",
          "data": {
            "text/plain": [
              "True"
            ]
          },
          "metadata": {
            "tags": []
          },
          "execution_count": 24
        }
      ]
    },
    {
      "cell_type": "code",
      "metadata": {
        "id": "x3fuUQdVCf81"
      },
      "source": [
        "cleaned = re.sub(r'\\W+', ' ', training_doc3).lower()\r\n",
        "tokens = word_tokenize(cleaned)\r\n",
        "train_len = 3+1\r\n",
        "text_sequences = []\r\n",
        "for i in range(train_len,len(tokens)):\r\n",
        "    seq = tokens[i-train_len:i]\r\n",
        "    text_sequences.append(seq)\r\n",
        "sequences = {}\r\n",
        "count = 1\r\n",
        "for i in range(len(tokens)):\r\n",
        "    if tokens[i] not in sequences:\r\n",
        "        sequences[tokens[i]] = count\r\n",
        "        count += 1\r\n",
        "tokenizer = Tokenizer()\r\n",
        "tokenizer.fit_on_texts(text_sequences)\r\n",
        "sequences = tokenizer.texts_to_sequences(text_sequences) \r\n",
        "\r\n",
        "#Collecting some information   \r\n",
        "vocabulary_size = len(tokenizer.word_counts)+1\r\n",
        "\r\n",
        "n_sequences = np.empty([len(sequences),train_len], dtype='int32')\r\n",
        "for i in range(len(sequences)):\r\n",
        "    n_sequences[i] = sequences[i]"
      ],
      "execution_count": null,
      "outputs": []
    },
    {
      "cell_type": "code",
      "metadata": {
        "id": "MxHkaeUkCjpB"
      },
      "source": [
        "train_inputs = n_sequences[:,:-1]\r\n",
        "train_targets = n_sequences[:,-1]\r\n",
        "train_targets = to_categorical(train_targets, num_classes=vocabulary_size)\r\n",
        "seq_len = train_inputs.shape[1]\r\n"
      ],
      "execution_count": null,
      "outputs": []
    },
    {
      "cell_type": "code",
      "metadata": {
        "colab": {
          "base_uri": "https://localhost:8080/"
        },
        "id": "P6WIwZnZCo_u",
        "outputId": "38ab3b80-1332-4b55-8604-c01f8ef0e62d"
      },
      "source": [
        "from keras.models import Sequential, load_model\r\n",
        "from keras.layers import Dense\r\n",
        "from keras.layers import LSTM\r\n",
        "from keras.layers import Embedding\r\n",
        "#model = load_model(\"mymodel.h5\")\r\n",
        "\r\n",
        "model = Sequential()\r\n",
        "model.add(Embedding(vocabulary_size, seq_len, input_length=seq_len))\r\n",
        "model.add(LSTM(50,return_sequences=True))\r\n",
        "model.add(LSTM(50))\r\n",
        "model.add(Dense(50,activation='relu'))\r\n",
        "model.add(Dense(vocabulary_size, activation='softmax'))\r\n",
        "print(model.summary())\r\n",
        "# compile network\r\n",
        "model.compile(loss='categorical_crossentropy', optimizer='adam', metrics=['accuracy'])\r\n",
        "model.fit(train_inputs,train_targets,epochs=500,verbose=1)\r\n",
        "model.save(\"mymodel.h5\")"
      ],
      "execution_count": null,
      "outputs": [
        {
          "output_type": "stream",
          "text": [
            "Model: \"sequential_2\"\n",
            "_________________________________________________________________\n",
            "Layer (type)                 Output Shape              Param #   \n",
            "=================================================================\n",
            "embedding_2 (Embedding)      (None, 3, 3)              19380     \n",
            "_________________________________________________________________\n",
            "lstm_4 (LSTM)                (None, 3, 50)             10800     \n",
            "_________________________________________________________________\n",
            "lstm_5 (LSTM)                (None, 50)                20200     \n",
            "_________________________________________________________________\n",
            "dense_4 (Dense)              (None, 50)                2550      \n",
            "_________________________________________________________________\n",
            "dense_5 (Dense)              (None, 6460)              329460    \n",
            "=================================================================\n",
            "Total params: 382,390\n",
            "Trainable params: 382,390\n",
            "Non-trainable params: 0\n",
            "_________________________________________________________________\n",
            "None\n",
            "Epoch 1/500\n",
            "981/981 [==============================] - 15s 15ms/step - loss: 7.2856 - accuracy: 0.0485\n",
            "Epoch 2/500\n",
            "981/981 [==============================] - 14s 14ms/step - loss: 6.8534 - accuracy: 0.0486\n",
            "Epoch 3/500\n",
            "981/981 [==============================] - 15s 15ms/step - loss: 6.7208 - accuracy: 0.0486\n",
            "Epoch 4/500\n",
            "981/981 [==============================] - 16s 16ms/step - loss: 6.6268 - accuracy: 0.0520\n",
            "Epoch 5/500\n",
            "981/981 [==============================] - 15s 15ms/step - loss: 6.4517 - accuracy: 0.0614\n",
            "Epoch 6/500\n",
            "981/981 [==============================] - 15s 16ms/step - loss: 6.2818 - accuracy: 0.0652\n",
            "Epoch 7/500\n",
            "981/981 [==============================] - 16s 16ms/step - loss: 6.1510 - accuracy: 0.0663\n",
            "Epoch 8/500\n",
            "981/981 [==============================] - 15s 16ms/step - loss: 6.0172 - accuracy: 0.0700\n",
            "Epoch 9/500\n",
            "981/981 [==============================] - 16s 16ms/step - loss: 5.8907 - accuracy: 0.0724\n",
            "Epoch 10/500\n",
            "981/981 [==============================] - 16s 16ms/step - loss: 5.7779 - accuracy: 0.0746\n",
            "Epoch 11/500\n",
            "981/981 [==============================] - 16s 17ms/step - loss: 5.6745 - accuracy: 0.0772\n",
            "Epoch 12/500\n",
            "981/981 [==============================] - 16s 16ms/step - loss: 5.5777 - accuracy: 0.0809\n",
            "Epoch 13/500\n",
            "981/981 [==============================] - 16s 17ms/step - loss: 5.4887 - accuracy: 0.0848\n",
            "Epoch 14/500\n",
            "981/981 [==============================] - 16s 16ms/step - loss: 5.3968 - accuracy: 0.0865\n",
            "Epoch 15/500\n",
            "981/981 [==============================] - 16s 17ms/step - loss: 5.3076 - accuracy: 0.0888\n",
            "Epoch 16/500\n",
            "981/981 [==============================] - 16s 17ms/step - loss: 5.2216 - accuracy: 0.0922\n",
            "Epoch 17/500\n",
            "981/981 [==============================] - 16s 16ms/step - loss: 5.1380 - accuracy: 0.0950\n",
            "Epoch 18/500\n",
            "981/981 [==============================] - 15s 15ms/step - loss: 5.0559 - accuracy: 0.0979\n",
            "Epoch 19/500\n",
            "981/981 [==============================] - 15s 15ms/step - loss: 4.9795 - accuracy: 0.1004\n",
            "Epoch 20/500\n",
            "981/981 [==============================] - 15s 16ms/step - loss: 4.9039 - accuracy: 0.1044\n",
            "Epoch 21/500\n",
            "981/981 [==============================] - 15s 16ms/step - loss: 4.8284 - accuracy: 0.1080\n",
            "Epoch 22/500\n",
            "981/981 [==============================] - 15s 15ms/step - loss: 4.7592 - accuracy: 0.1110\n",
            "Epoch 23/500\n",
            "981/981 [==============================] - 15s 15ms/step - loss: 4.6919 - accuracy: 0.1146\n",
            "Epoch 24/500\n",
            "981/981 [==============================] - 15s 15ms/step - loss: 4.6203 - accuracy: 0.1186\n",
            "Epoch 25/500\n",
            "981/981 [==============================] - 16s 16ms/step - loss: 4.5549 - accuracy: 0.1218\n",
            "Epoch 26/500\n",
            "981/981 [==============================] - 15s 15ms/step - loss: 4.4942 - accuracy: 0.1242\n",
            "Epoch 27/500\n",
            "981/981 [==============================] - 15s 16ms/step - loss: 4.4299 - accuracy: 0.1283\n",
            "Epoch 28/500\n",
            "981/981 [==============================] - 15s 15ms/step - loss: 4.3723 - accuracy: 0.1326\n",
            "Epoch 29/500\n",
            "981/981 [==============================] - 15s 16ms/step - loss: 4.3154 - accuracy: 0.1386\n",
            "Epoch 30/500\n",
            "981/981 [==============================] - 15s 15ms/step - loss: 4.2628 - accuracy: 0.1415\n",
            "Epoch 31/500\n",
            "981/981 [==============================] - 15s 15ms/step - loss: 4.2153 - accuracy: 0.1487\n",
            "Epoch 32/500\n",
            "981/981 [==============================] - 15s 15ms/step - loss: 4.1643 - accuracy: 0.1519\n",
            "Epoch 33/500\n",
            "981/981 [==============================] - 14s 15ms/step - loss: 4.1212 - accuracy: 0.1584\n",
            "Epoch 34/500\n",
            "981/981 [==============================] - 15s 15ms/step - loss: 4.0800 - accuracy: 0.1640\n",
            "Epoch 35/500\n",
            "981/981 [==============================] - 15s 16ms/step - loss: 4.0366 - accuracy: 0.1690\n",
            "Epoch 36/500\n",
            "981/981 [==============================] - 15s 15ms/step - loss: 4.0000 - accuracy: 0.1720\n",
            "Epoch 37/500\n",
            "981/981 [==============================] - 15s 15ms/step - loss: 3.9646 - accuracy: 0.1771\n",
            "Epoch 38/500\n",
            "981/981 [==============================] - 15s 15ms/step - loss: 3.9300 - accuracy: 0.1802\n",
            "Epoch 39/500\n",
            "981/981 [==============================] - 15s 15ms/step - loss: 3.8977 - accuracy: 0.1886\n",
            "Epoch 40/500\n",
            "981/981 [==============================] - 15s 15ms/step - loss: 3.8666 - accuracy: 0.1917\n",
            "Epoch 41/500\n",
            "981/981 [==============================] - 14s 14ms/step - loss: 3.8326 - accuracy: 0.1963\n",
            "Epoch 42/500\n",
            "981/981 [==============================] - 14s 14ms/step - loss: 3.8053 - accuracy: 0.1980\n",
            "Epoch 43/500\n",
            "981/981 [==============================] - 14s 14ms/step - loss: 3.7786 - accuracy: 0.2012\n",
            "Epoch 44/500\n",
            "981/981 [==============================] - 14s 15ms/step - loss: 3.7507 - accuracy: 0.2066\n",
            "Epoch 45/500\n",
            "981/981 [==============================] - 15s 15ms/step - loss: 3.7253 - accuracy: 0.2110\n",
            "Epoch 46/500\n",
            "981/981 [==============================] - 15s 15ms/step - loss: 3.6990 - accuracy: 0.2144\n",
            "Epoch 47/500\n",
            "981/981 [==============================] - 15s 15ms/step - loss: 3.6720 - accuracy: 0.2187\n",
            "Epoch 48/500\n",
            "981/981 [==============================] - 15s 15ms/step - loss: 3.6517 - accuracy: 0.2197\n",
            "Epoch 49/500\n",
            "981/981 [==============================] - 15s 15ms/step - loss: 3.6243 - accuracy: 0.2244\n",
            "Epoch 50/500\n",
            "981/981 [==============================] - 15s 15ms/step - loss: 3.6037 - accuracy: 0.2280\n",
            "Epoch 51/500\n",
            "981/981 [==============================] - 15s 15ms/step - loss: 3.5851 - accuracy: 0.2304\n",
            "Epoch 52/500\n",
            "981/981 [==============================] - 14s 15ms/step - loss: 3.5629 - accuracy: 0.2331\n",
            "Epoch 53/500\n",
            "981/981 [==============================] - 15s 15ms/step - loss: 3.5443 - accuracy: 0.2353\n",
            "Epoch 54/500\n",
            "981/981 [==============================] - 15s 15ms/step - loss: 3.5199 - accuracy: 0.2418\n",
            "Epoch 55/500\n",
            "981/981 [==============================] - 15s 15ms/step - loss: 3.4987 - accuracy: 0.2432\n",
            "Epoch 56/500\n",
            "981/981 [==============================] - 15s 15ms/step - loss: 3.4775 - accuracy: 0.2487\n",
            "Epoch 57/500\n",
            "981/981 [==============================] - 15s 15ms/step - loss: 3.4649 - accuracy: 0.2512\n",
            "Epoch 58/500\n",
            "981/981 [==============================] - 15s 15ms/step - loss: 3.4456 - accuracy: 0.2517\n",
            "Epoch 59/500\n",
            "981/981 [==============================] - 15s 15ms/step - loss: 3.4225 - accuracy: 0.2559\n",
            "Epoch 60/500\n",
            "981/981 [==============================] - 15s 15ms/step - loss: 3.4046 - accuracy: 0.2594\n",
            "Epoch 61/500\n",
            "981/981 [==============================] - 14s 15ms/step - loss: 3.3916 - accuracy: 0.2624\n",
            "Epoch 62/500\n",
            "981/981 [==============================] - 14s 15ms/step - loss: 3.3785 - accuracy: 0.2625\n",
            "Epoch 63/500\n",
            "981/981 [==============================] - 15s 15ms/step - loss: 3.3595 - accuracy: 0.2678\n",
            "Epoch 64/500\n",
            "981/981 [==============================] - 15s 15ms/step - loss: 3.3433 - accuracy: 0.2689\n",
            "Epoch 65/500\n",
            "981/981 [==============================] - 14s 15ms/step - loss: 3.3286 - accuracy: 0.2720\n",
            "Epoch 66/500\n",
            "981/981 [==============================] - 15s 15ms/step - loss: 3.3112 - accuracy: 0.2744\n",
            "Epoch 67/500\n",
            "981/981 [==============================] - 15s 15ms/step - loss: 3.2956 - accuracy: 0.2789\n",
            "Epoch 68/500\n",
            "981/981 [==============================] - 16s 16ms/step - loss: 3.2835 - accuracy: 0.2809\n",
            "Epoch 69/500\n",
            "981/981 [==============================] - 15s 15ms/step - loss: 3.2652 - accuracy: 0.2844\n",
            "Epoch 70/500\n",
            "981/981 [==============================] - 15s 15ms/step - loss: 3.2535 - accuracy: 0.2837\n",
            "Epoch 71/500\n",
            "981/981 [==============================] - 15s 15ms/step - loss: 3.2399 - accuracy: 0.2880\n",
            "Epoch 72/500\n",
            "981/981 [==============================] - 15s 15ms/step - loss: 3.2253 - accuracy: 0.2901\n",
            "Epoch 73/500\n",
            "981/981 [==============================] - 15s 15ms/step - loss: 3.2102 - accuracy: 0.2945\n",
            "Epoch 74/500\n",
            "981/981 [==============================] - 15s 15ms/step - loss: 3.1975 - accuracy: 0.2956\n",
            "Epoch 75/500\n",
            "981/981 [==============================] - 14s 14ms/step - loss: 3.1867 - accuracy: 0.2966\n",
            "Epoch 76/500\n",
            "981/981 [==============================] - 13s 14ms/step - loss: 3.1743 - accuracy: 0.2978\n",
            "Epoch 77/500\n",
            "981/981 [==============================] - 14s 14ms/step - loss: 3.1603 - accuracy: 0.3030\n",
            "Epoch 78/500\n",
            "981/981 [==============================] - 13s 13ms/step - loss: 3.1500 - accuracy: 0.3037\n",
            "Epoch 79/500\n",
            "981/981 [==============================] - 14s 15ms/step - loss: 3.1341 - accuracy: 0.3060\n",
            "Epoch 80/500\n",
            "981/981 [==============================] - 15s 15ms/step - loss: 3.1221 - accuracy: 0.3094\n",
            "Epoch 81/500\n",
            "981/981 [==============================] - 14s 15ms/step - loss: 3.1131 - accuracy: 0.3096\n",
            "Epoch 82/500\n",
            "981/981 [==============================] - 14s 15ms/step - loss: 3.0978 - accuracy: 0.3135\n",
            "Epoch 83/500\n",
            "981/981 [==============================] - 14s 14ms/step - loss: 3.0913 - accuracy: 0.3136\n",
            "Epoch 84/500\n",
            "981/981 [==============================] - 14s 14ms/step - loss: 3.0838 - accuracy: 0.3137\n",
            "Epoch 85/500\n",
            "981/981 [==============================] - 14s 15ms/step - loss: 3.0657 - accuracy: 0.3174\n",
            "Epoch 86/500\n",
            "981/981 [==============================] - 14s 14ms/step - loss: 3.0556 - accuracy: 0.3211\n",
            "Epoch 87/500\n",
            "981/981 [==============================] - 14s 15ms/step - loss: 3.0468 - accuracy: 0.3225\n",
            "Epoch 88/500\n",
            "981/981 [==============================] - 15s 15ms/step - loss: 3.0347 - accuracy: 0.3259\n",
            "Epoch 89/500\n",
            "981/981 [==============================] - 17s 17ms/step - loss: 3.0230 - accuracy: 0.3273\n",
            "Epoch 90/500\n",
            "981/981 [==============================] - 16s 16ms/step - loss: 3.0157 - accuracy: 0.3289\n",
            "Epoch 91/500\n",
            "981/981 [==============================] - 15s 15ms/step - loss: 3.0082 - accuracy: 0.3277\n",
            "Epoch 92/500\n",
            "981/981 [==============================] - 15s 15ms/step - loss: 2.9977 - accuracy: 0.3308\n",
            "Epoch 93/500\n",
            "981/981 [==============================] - 15s 15ms/step - loss: 2.9897 - accuracy: 0.3330\n",
            "Epoch 94/500\n",
            "981/981 [==============================] - 15s 15ms/step - loss: 2.9778 - accuracy: 0.3344\n",
            "Epoch 95/500\n",
            "981/981 [==============================] - 15s 15ms/step - loss: 2.9662 - accuracy: 0.3358\n",
            "Epoch 96/500\n",
            "981/981 [==============================] - 15s 15ms/step - loss: 2.9606 - accuracy: 0.3360\n",
            "Epoch 97/500\n",
            "981/981 [==============================] - 15s 15ms/step - loss: 2.9481 - accuracy: 0.3389\n",
            "Epoch 98/500\n",
            "981/981 [==============================] - 15s 15ms/step - loss: 2.9358 - accuracy: 0.3414\n",
            "Epoch 99/500\n",
            "981/981 [==============================] - 15s 15ms/step - loss: 2.9363 - accuracy: 0.3414\n",
            "Epoch 100/500\n",
            "981/981 [==============================] - 14s 15ms/step - loss: 2.9263 - accuracy: 0.3406\n",
            "Epoch 101/500\n",
            "981/981 [==============================] - 14s 15ms/step - loss: 2.9143 - accuracy: 0.3460\n",
            "Epoch 102/500\n",
            "981/981 [==============================] - 14s 15ms/step - loss: 2.9076 - accuracy: 0.3489\n",
            "Epoch 103/500\n",
            "981/981 [==============================] - 13s 14ms/step - loss: 2.9033 - accuracy: 0.3485\n",
            "Epoch 104/500\n",
            "981/981 [==============================] - 13s 13ms/step - loss: 2.8883 - accuracy: 0.3520\n",
            "Epoch 105/500\n",
            "981/981 [==============================] - 13s 13ms/step - loss: 2.8770 - accuracy: 0.3542\n",
            "Epoch 106/500\n",
            "981/981 [==============================] - 13s 13ms/step - loss: 2.8731 - accuracy: 0.3538\n",
            "Epoch 107/500\n",
            "908/981 [==========================>...] - ETA: 0s - loss: 2.8574 - accuracy: 0.3567"
          ],
          "name": "stdout"
        }
      ]
    },
    {
      "cell_type": "code",
      "metadata": {
        "colab": {
          "base_uri": "https://localhost:8080/"
        },
        "id": "QGXRa42HC2Su",
        "outputId": "01f572cb-e4a4-4f70-cd61-1fb91a96efd4"
      },
      "source": [
        "from keras.preprocessing.sequence import pad_sequences\r\n",
        "input_text = input().strip().lower()\r\n",
        "encoded_text = tokenizer.texts_to_sequences([input_text])[0]\r\n",
        "pad_encoded = pad_sequences([encoded_text], maxlen=seq_len, truncating='pre')\r\n",
        "print(encoded_text, pad_encoded)\r\n",
        "for i in (model.predict(pad_encoded)[0]).argsort()[-3:][::-1]:\r\n",
        "  pred_word = tokenizer.index_word[i]\r\n",
        "  print(\"Next word suggestion:\",pred_word)"
      ],
      "execution_count": null,
      "outputs": [
        {
          "output_type": "stream",
          "text": [
            "having failed\n",
            "[244, 2623] [[   0  244 2623]]\n",
            "Next word suggestion: and\n",
            "Next word suggestion: is\n",
            "Next word suggestion: of\n"
          ],
          "name": "stdout"
        }
      ]
    },
    {
      "cell_type": "code",
      "metadata": {
        "colab": {
          "base_uri": "https://localhost:8080/"
        },
        "id": "ARjc8sfcuVnr",
        "outputId": "56b82adf-8f76-4857-e317-b0fcdb1b31bf"
      },
      "source": [
        "input_text = input().strip().lower()\r\n",
        "encoded_text = tokenizer.texts_to_sequences([input_text])[0]\r\n",
        "pad_encoded = pad_sequences([encoded_text], maxlen=seq_len, truncating='pre')\r\n",
        "print(encoded_text, pad_encoded)\r\n",
        "for i in (model.predict(pad_encoded)[0]).argsort()[-3:][::-1]:\r\n",
        "  pred_word = tokenizer.index_word[i]\r\n",
        "  print(\"Next word suggestion:\",pred_word)"
      ],
      "execution_count": null,
      "outputs": [
        {
          "output_type": "stream",
          "text": [
            "looking for\n",
            "[256, 10] [[  0 256  10]]\n",
            "Next word suggestion: out\n",
            "Next word suggestion: i\n",
            "Next word suggestion: of\n"
          ],
          "name": "stdout"
        }
      ]
    }
  ]
}